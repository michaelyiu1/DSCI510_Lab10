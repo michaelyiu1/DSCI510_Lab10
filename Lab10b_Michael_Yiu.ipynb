{
 "cells": [
  {
   "cell_type": "markdown",
   "metadata": {},
   "source": [
    "Lab 10b (Bonus)\n",
    "---\n",
    "\n",
    "Please submit 2 files to Brightspace:\n",
    "1. This notebook with completed code and completed answers to question 4-8\n",
    "2. An image of the plot (png or jpg format)\n",
    "\n",
    "```\n",
    "Lab10b_[YOUR FIRSTNAME]_[YOUR LASTNAME].ipynb\n",
    "Lab10b_plot3_[YOUR FIRSTNAME]_[YOUR LASTNAME].png  or Lab10b_plot3_[YOUR FIRSTNAME]_[YOUR LASTNAME].jpg\n",
    "```"
   ]
  },
  {
   "cell_type": "markdown",
   "metadata": {},
   "source": [
    "# Bonus Question: Basic Pandas [10 points]\n",
    "---\n",
    "All tasks and questions below refer to the market period from January 1, 2025 to March 31, 2025 (inclusive).<br>\n",
    "  1. **Download** the stock market prices for Boeing (BA), Caterpillar (CAT), Honeywell (HON) and Salesforce (CRM).\n",
    "  2. **Build** a joint Pandas data frame of closing prices for the four companies.\n",
    "  3. **Plot** the closing prices of the four companies.\n",
    "  4. Which two of the four companies' stock market closing prices are the **most** closely correlated?\n",
    "  5. Which two of the four companies' stock market closing prices are the **least** closely correlated (most independent)?\n",
    "  6. What is the **maximum** closing price of Caterpillar?<br>\n",
    "  7. What is the **average** (mean) closing price of Boeing?\n",
    "  8. What is the **median** (50% percentile) closing price of Boeing?\n",
    "\n",
    "**Reference:** DSCI 510 lecture on April 11, 2025<br>\n",
    "**Hint:** Suggested API structure is yf.download(tickers='...',  start='...', end='...', interval='...') where dates are in standard *YYYY-MM-DD* format.<br>\n",
    "**Rounding:** 2 decimal places (i.e. dollars and cents)"
   ]
  },
  {
   "cell_type": "code",
   "execution_count": 51,
   "metadata": {},
   "outputs": [
    {
     "name": "stderr",
     "output_type": "stream",
     "text": [
      "[*********************100%***********************]  4 of 4 completed\n"
     ]
    }
   ],
   "source": [
    "import pandas as pd\n",
    "import yfinance as yf\n",
    "import matplotlib.pyplot as plt\n",
    "\n",
    "# Add your Pandas code here\n",
    "tickers = ['BA','CAT','HON','CRM']\n",
    "start_date = '2025-01-01'\n",
    "end_date = '2025-04-01'\n",
    "data = yf.download(tickers,start= start_date, end = end_date, interval = '1d')\n"
   ]
  },
  {
   "cell_type": "code",
   "execution_count": null,
   "metadata": {},
   "outputs": [],
   "source": [
    "# Combine \n",
    "df = round(data['Close'],2)\n",
    "df.columns = ['Boeing','Caterpillar','Honeywell','Salesforce']\n",
    "df.plot()\n",
    "plt.savefig('Lab10b_plot3_Michael_Yiu.png')\n",
    "df\n"
   ]
  },
  {
   "cell_type": "code",
   "execution_count": 55,
   "metadata": {},
   "outputs": [
    {
     "name": "stdout",
     "output_type": "stream",
     "text": [
      "407.63\n",
      "173.087\n",
      "174.23000000000002\n"
     ]
    }
   ],
   "source": [
    "df.corr()\n",
    "cat_max = df['Caterpillar'].max()\n",
    "boe_mean = df['Boeing'].mean()\n",
    "boe_median = df['Boeing'].median()\n",
    "print(f'{cat_max}\\n{boe_mean}\\n{boe_median}')\n"
   ]
  },
  {
   "cell_type": "markdown",
   "metadata": {},
   "source": [
    "Answers to bonus questions 4-8:<br>\n",
    "  4. __Caterpillar___ and ___Honeywell__ are most closely correlated.<br>\n",
    "  5. __Salesforce___ and ___Boeing__ are least closely correlated (most independent).<br>\n",
    "  6. The maximum closing price of Caterpillar is __407.63___<br>\n",
    "  7. The average closing price of Boeing __173.09___<br>\n",
    "  8. The median closing price of Boeing __173.23___"
   ]
  }
 ],
 "metadata": {
  "kernelspec": {
   "display_name": "filereader",
   "language": "python",
   "name": "python3"
  },
  "language_info": {
   "codemirror_mode": {
    "name": "ipython",
    "version": 3
   },
   "file_extension": ".py",
   "mimetype": "text/x-python",
   "name": "python",
   "nbconvert_exporter": "python",
   "pygments_lexer": "ipython3",
   "version": "3.12.4"
  }
 },
 "nbformat": 4,
 "nbformat_minor": 4
}
