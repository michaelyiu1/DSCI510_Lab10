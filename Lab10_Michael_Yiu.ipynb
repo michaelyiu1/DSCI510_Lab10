{
 "cells": [
  {
   "cell_type": "markdown",
   "metadata": {},
   "source": [
    "# Lab 10\n",
    "### DSCI 510 / USC / Hermjakob section / Spring 2025\n",
    "---\n",
    "Hello and welcome to DSCI 510's Lab10.\n",
    "\n",
    "Guidelines for the Lab:\n",
    "\n",
    "- You must complete the assignments individually. If you have trouble completing the assignment, please let the teaching assistant (TA) know, during the lab or their office hours. He will help and guide you, but he will not write code for you and no one else should :) !!!  \n",
    "\n",
    "- You have to fill in the code in this notebook and upload it back to Brightspace for submission. Please remember to rename your file as \"Lab10_[YOUR FIRSTNAME]_[YOUR LASTNAME].ipynb\" (e.g. Lab10_George_Washington.ipynb).\n",
    "\n",
    "- You may look up resources online like python docs and stackoverflow. You may look up topics, but not the questions themselves."
   ]
  },
  {
   "cell_type": "markdown",
   "metadata": {
    "pycharm": {
     "name": "#%% md\n"
    }
   },
   "source": [
    "Q1: SQL - Build Two Oil Price Tables [15 points] \n",
    "---\n",
    "You are to build a SQL database with two tables, from two oil price files, `brent-daily.csv` and `wti-daily.csv`.\n",
    "\n",
    "Complete the `feed_data` function which will feed all data from `filename` (argument) into a sqlite database. While doing this, make sure of the following: \n",
    "- The SQL tables should not include the first row of the csv files (it has the name of the columns in it.)\n",
    "- Database name: lab10.db\n",
    "- Database table names: `brent_oil_price` and `wti_oil_price`\n",
    "- Columns in each table: date (type: DATE) and price (type: REAL)\n",
    "\n",
    "For this function, you don't have to print/return anything. Do not change given code.   \n",
    "\n",
    "Note 1: To read in the csv files, you may use the `csv` or `pandas` libraries.<br>\n",
    "Note 2: Date column in the csv files will have \"YYYY-MM-DD\" format.<br>\n",
    "Note 3: Use the datetime module for date manipulation. References: Lecture on March 26, datetime.ipynb; https://docs.python.org/3/library/datetime.html Specifically: https://docs.python.org/3/library/datetime.html#datetime.datetime.strptime<br>\n",
    "Note 4: Once you use strptime, you will get datetime. But, you need to insert date. (See `date()` function in datetime)<br>\n",
    "Note 5: In the print output, if you see a string instead of datetime.date(...), then you do not have the data stored in the correct format.  "
   ]
  },
  {
   "cell_type": "code",
   "execution_count": 56,
   "metadata": {
    "scrolled": true
   },
   "outputs": [],
   "source": [
    "from datetime import datetime\n",
    "import sqlite3\n",
    "import csv\n",
    "\n",
    "def feed_data(filename, table_name):\n",
    "    conn = sqlite3.connect('lab10.db')\n",
    "    cur = conn.cursor()\n",
    "    ### Write Your code here\n",
    "    cur.execute(f\"DROP TABLE IF EXISTS {table_name}\")\n",
    "    cur.execute(f'''CREATE TABLE {table_name}( \n",
    "    id     INTEGER NOT NULL PRIMARY KEY AUTOINCREMENT UNIQUE,\n",
    "    Date   DATE,\n",
    "    Price  REAL)''')\n",
    "\n",
    "    with open(filename,'r') as file:\n",
    "        for line in file.readlines()[1:]:\n",
    "            date,price = line.strip().split(',')\n",
    "            date_str = datetime.strptime(date,'%Y-%m-%d').date()\n",
    "            cur.execute(f\"INSERT INTO {table_name}(Date,Price) VALUES (?,?)\",(date_str,price))\n",
    "    \n",
    "    print(filename)\n",
    "    cur.execute('SELECT * FROM ' + table_name + ' LIMIT 1')\n",
    "    return_val = cur.fetchall()\n",
    "    print('  first: ', return_val)\n",
    "\n",
    "    cur.execute('SELECT * FROM ' + table_name + ' ORDER BY date DESC LIMIT 1')\n",
    "    return_val = cur.fetchall()\n",
    "    print('  last:  ', return_val)\n",
    "\n",
    "    conn.commit()\n",
    "    conn.close()"
   ]
  },
  {
   "cell_type": "code",
   "execution_count": 57,
   "metadata": {
    "scrolled": true
   },
   "outputs": [
    {
     "name": "stdout",
     "output_type": "stream",
     "text": [
      "brent-daily.csv\n",
      "  first:  [(1, '1987-05-20', 18.63)]\n",
      "  last:   [(9600, '2025-03-28', 73.63)]\n",
      "wti-daily.csv\n",
      "  first:  [(1, '1986-01-02', 25.56)]\n",
      "  last:   [(9890, '2025-03-28', 69.36)]\n"
     ]
    }
   ],
   "source": [
    "# open test\n",
    "    \n",
    "feed_data('brent-daily.csv', 'brent_oil_price')\n",
    "feed_data('wti-daily.csv', 'wti_oil_price')"
   ]
  },
  {
   "cell_type": "markdown",
   "metadata": {},
   "source": [
    "Q2: SQL queries [15 points, 3 per query] \n",
    "---\n",
    "For this question, you have to write queries on the `lab10.db` for the following questions and print the results of the query.\n",
    "1. Get Brent oil prices for March 2025. Print format: [(date, price)]   \n",
    "2. Number of days for which there exists prices for both (Brent and WTI) oil. Print format: int \n",
    "3. Compute the percentage of dates when the Brent oil price is higher than the WTI oil price. Print format: float%\n",
    "4. Find number of days where Brent oil price is at least 100 and at most 120. Print format: int\n",
    "5. Get information of Brent and WTI oil price in January-March 2025 which is sorted by difference between Brent and WTI oil price. Print format: [(date, brent oil price, wti oil price)]"
   ]
  },
  {
   "cell_type": "code",
   "execution_count": 60,
   "metadata": {},
   "outputs": [
    {
     "name": "stdout",
     "output_type": "stream",
     "text": [
      "[('2025-03-03', 71.62), ('2025-03-04', 71.04), ('2025-03-05', 69.3), ('2025-03-06', 69.46), ('2025-03-07', 70.36), ('2025-03-10', 69.28), ('2025-03-11', 69.56), ('2025-03-12', 70.95), ('2025-03-13', 69.88), ('2025-03-14', 70.58), ('2025-03-17', 71.07), ('2025-03-18', 70.56), ('2025-03-19', 70.78), ('2025-03-20', 72.0), ('2025-03-21', 72.16), ('2025-03-24', 73.0), ('2025-03-25', 73.02), ('2025-03-26', 73.79), ('2025-03-27', 74.03), ('2025-03-28', 73.63)]\n"
     ]
    }
   ],
   "source": [
    "# Lab10.Q2.1 Brent March 2025\n",
    "conn = sqlite3.connect('lab10.db')\n",
    "cur = conn.cursor()\n",
    "\n",
    "## Your code here\n",
    "data = cur.execute(\"SELECT Date,Price FROM brent_oil_price WHERE strftime('%Y',Date) = '2025' AND strftime('%m',Date) = '03'\").fetchall()\n",
    "print(data)\n",
    "\n",
    "conn.commit()\n",
    "conn.close()    "
   ]
  },
  {
   "cell_type": "code",
   "execution_count": 61,
   "metadata": {},
   "outputs": [
    {
     "name": "stdout",
     "output_type": "stream",
     "text": [
      "9469\n"
     ]
    }
   ],
   "source": [
    "# Lab10.Q2.2 Number of days with parallel Brent-WTI data\n",
    "conn = sqlite3.connect('lab10.db', detect_types=sqlite3.PARSE_DECLTYPES|sqlite3.PARSE_COLNAMES)\n",
    "cur = conn.cursor()\n",
    "\n",
    "## Your code here\n",
    "same_days = cur.execute(\"SELECT w.Date FROM wti_oil_price AS w INNER JOIN brent_oil_price AS b ON b.Date = w.Date\").fetchall()\n",
    "print(len(same_days))\n",
    "\n",
    "# wti_days = cur.execute(\"SELECT Date FROM wti_oil_price\").fetchall()\n",
    "# brent_days = cur.execute(\"SELECT Date FROM brent_oil_price\").fetchall()\n",
    "# count_same_days = 0\n",
    "# for day in wti_days:\n",
    "#     if day in brent_days:\n",
    "#         count_same_days += 1\n",
    "\n",
    "# print(count_same_days)\n",
    "\n",
    "conn.commit()\n",
    "conn.close()   "
   ]
  },
  {
   "cell_type": "code",
   "execution_count": 81,
   "metadata": {},
   "outputs": [
    {
     "name": "stdout",
     "output_type": "stream",
     "text": [
      "42.97\n"
     ]
    }
   ],
   "source": [
    "# Lab10.Q2.3 Percentage days with Brent > WTI\n",
    "conn = sqlite3.connect('lab10.db', detect_types=sqlite3.PARSE_DECLTYPES|sqlite3.PARSE_COLNAMES)\n",
    "cur = conn.cursor()\n",
    "\n",
    "## Your code here\n",
    "same_days = cur.execute(\"SELECT w.Date,w.Price,b.Price FROM wti_oil_price AS w INNER JOIN brent_oil_price AS b ON b.Date = w.Date\").fetchall()\n",
    "\n",
    "total_days = 0\n",
    "brent_higher_price_days = 0\n",
    "for date, wti_price, brent_price in same_days:\n",
    "    total_days += 1\n",
    "    if brent_price > wti_price:\n",
    "        brent_higher_price_days += 1\n",
    "\n",
    "brent_higher_percent = brent_higher_price_days/ total_days *100\n",
    "print(round(brent_higher_percent,2))\n",
    "\n",
    "conn.commit()\n",
    "conn.close()"
   ]
  },
  {
   "cell_type": "code",
   "execution_count": 63,
   "metadata": {},
   "outputs": [
    {
     "name": "stdout",
     "output_type": "stream",
     "text": [
      "966\n"
     ]
    }
   ],
   "source": [
    "# Lab10.Q2.4 Number of days with Brent in [100 .. 120]\n",
    "conn = sqlite3.connect('lab10.db', detect_types=sqlite3.PARSE_DECLTYPES|sqlite3.PARSE_COLNAMES)\n",
    "cur = conn.cursor()\n",
    "\n",
    "## Your code here\n",
    "result = cur.execute(\"SELECT COUNT(Price) FROM brent_oil_price WHERE Price >=100 and Price <=120\").fetchone()\n",
    "print(result[0])\n",
    "\n",
    "conn.commit()\n",
    "conn.close()"
   ]
  },
  {
   "cell_type": "code",
   "execution_count": 65,
   "metadata": {},
   "outputs": [
    {
     "name": "stdout",
     "output_type": "stream",
     "text": [
      "[('2025-01-15', 82.03, 80.04), ('2025-01-13', 81.01, 78.82), ('2025-01-14', 79.92, 77.5), ('2025-01-03', 76.51, 73.96), ('2025-01-16', 81.29, 78.68), ('2025-01-06', 76.3, 73.56), ('2025-03-04', 71.04, 68.26), ('2025-01-07', 77.05, 74.25), ('2025-02-03', 75.96, 73.16), ('2025-01-02', 75.93, 73.13), ('2025-01-08', 76.16, 73.32), ('2025-01-17', 80.79, 77.88), ('2025-03-05', 69.3, 66.31), ('2025-01-09', 76.92, 73.92), ('2025-03-06', 69.46, 66.36), ('2025-01-10', 79.76, 76.57), ('2025-03-03', 71.62, 68.37), ('2025-03-10', 69.28, 66.03), ('2025-03-12', 70.95, 67.68), ('2025-03-11', 69.56, 66.25), ('2025-03-07', 70.36, 67.04), ('2025-03-13', 69.88, 66.55), ('2025-03-14', 70.58, 67.18), ('2025-01-21', 79.29, 75.89), ('2025-02-28', 73.18, 69.76), ('2025-03-17', 71.07, 67.58), ('2025-02-04', 76.2, 72.7), ('2025-02-10', 75.87, 72.32), ('2025-01-22', 79.0, 75.44), ('2025-02-05', 74.61, 71.03), ('2025-03-19', 70.78, 67.16), ('2025-02-07', 74.66, 71.0), ('2025-03-18', 70.56, 66.9), ('2025-01-23', 78.29, 74.62), ('2025-02-06', 74.29, 70.61), ('2025-02-11', 77.0, 73.32), ('2025-02-27', 74.04, 70.35), ('2025-01-28', 77.49, 73.77), ('2025-02-13', 75.02, 71.29), ('2025-03-20', 72.0, 68.26), ('2025-02-19', 76.04, 72.25), ('2025-02-12', 75.18, 71.37), ('2025-01-24', 78.5, 74.66), ('2025-03-21', 72.16, 68.28), ('2025-03-24', 73.0, 69.11), ('2025-01-27', 77.08, 73.17), ('2025-02-26', 72.53, 68.62), ('2025-02-20', 76.48, 72.57), ('2025-01-29', 76.58, 72.62), ('2025-02-18', 75.84, 71.85), ('2025-02-14', 74.74, 70.74), ('2025-03-25', 73.02, 69.0), ('2025-02-21', 74.43, 70.4), ('2025-02-24', 74.78, 70.7), ('2025-02-25', 73.02, 68.93), ('2025-03-27', 74.03, 69.92), ('2025-01-30', 76.87, 72.73), ('2025-03-26', 73.79, 69.65), ('2025-01-31', 76.76, 72.53), ('2025-03-28', 73.63, 69.36)]\n"
     ]
    }
   ],
   "source": [
    "# Lab10.Q2.5 Sorted by Brent - WTI\n",
    "conn = sqlite3.connect('lab10.db')\n",
    "cur = conn.cursor()\n",
    "\n",
    "## Your code here\n",
    "result = cur.execute(\"\"\"SELECT w.Date,b.Price,w.Price \n",
    "                     FROM wti_oil_price as w\n",
    "                     LEFT JOIN brent_oil_price AS b ON w.Date = b.Date\n",
    "                     WHERE w.Date BETWEEN '2025-01' AND '2025-04'\n",
    "                     ORDER BY (ABS(b.Price - w.Price)) ASC\n",
    "                     \"\"\").fetchall()\n",
    "\n",
    "print(result)\n",
    "\n",
    "conn.commit()\n",
    "conn.close()"
   ]
  },
  {
   "cell_type": "markdown",
   "metadata": {},
   "source": [
    "### A bonus question might be added after the lecture on Friday, April 11 depending on progress on Pandas."
   ]
  }
 ],
 "metadata": {
  "kernelspec": {
   "display_name": "base",
   "language": "python",
   "name": "python3"
  },
  "language_info": {
   "codemirror_mode": {
    "name": "ipython",
    "version": 3
   },
   "file_extension": ".py",
   "mimetype": "text/x-python",
   "name": "python",
   "nbconvert_exporter": "python",
   "pygments_lexer": "ipython3",
   "version": "3.11.7"
  }
 },
 "nbformat": 4,
 "nbformat_minor": 4
}
